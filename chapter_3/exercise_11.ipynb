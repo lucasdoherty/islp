{
 "cells": [
  {
   "cell_type": "code",
   "execution_count": 7,
   "metadata": {},
   "outputs": [],
   "source": [
    "\"\"\"Chapter 3 | Linear Regression applied exercises.\"\"\"\n",
    "\n",
    "import matplotlib.pyplot as plt\n",
    "import numpy as np\n",
    "import statsmodels.api as sm\n",
    "import statsmodels.formula.api as smf\n",
    "\n",
    "from ISLP import load_data\n",
    "from ISLP.models import (\n",
    "    ModelSpec as MS,\n",
    "    summarize,\n",
    "    poly\n",
    ")\n",
    "from pandas.plotting import scatter_matrix\n",
    "from statsmodels.stats.anova import anova_lm"
   ]
  },
  {
   "cell_type": "code",
   "execution_count": 8,
   "metadata": {},
   "outputs": [
    {
     "data": {
      "text/html": [
       "<div>\n",
       "<style scoped>\n",
       "    .dataframe tbody tr th:only-of-type {\n",
       "        vertical-align: middle;\n",
       "    }\n",
       "\n",
       "    .dataframe tbody tr th {\n",
       "        vertical-align: top;\n",
       "    }\n",
       "\n",
       "    .dataframe thead th {\n",
       "        text-align: right;\n",
       "    }\n",
       "</style>\n",
       "<table border=\"1\" class=\"dataframe\">\n",
       "  <thead>\n",
       "    <tr style=\"text-align: right;\">\n",
       "      <th></th>\n",
       "      <th>coef</th>\n",
       "      <th>std err</th>\n",
       "      <th>t</th>\n",
       "      <th>P&gt;|t|</th>\n",
       "    </tr>\n",
       "  </thead>\n",
       "  <tbody>\n",
       "    <tr>\n",
       "      <th>x1</th>\n",
       "      <td>1.9762</td>\n",
       "      <td>0.117</td>\n",
       "      <td>16.898</td>\n",
       "      <td>0.0</td>\n",
       "    </tr>\n",
       "  </tbody>\n",
       "</table>\n",
       "</div>"
      ],
      "text/plain": [
       "      coef  std err       t  P>|t|\n",
       "x1  1.9762    0.117  16.898    0.0"
      ]
     },
     "execution_count": 8,
     "metadata": {},
     "output_type": "execute_result"
    }
   ],
   "source": [
    "# (a) Perform a simple linear regression of y onto x, without an intercept.\n",
    "# Report the coefficient estimate βˆ, the standard error of this coefficient\n",
    "# estimate, and the t-statistic and p-value associated with the null\n",
    "# hypothesis H0 : β = 0. Comment on these results.\n",
    "\n",
    "rng = np.random.default_rng(1)\n",
    "x = rng.normal(size=100)\n",
    "y = 2 * x + rng.normal(size=100)\n",
    "\n",
    "model = sm.OLS(y, x)\n",
    "results = model.fit()\n",
    "summarize(results)\n",
    "\n",
    "# Coefficient estimate: The estimated value of β is approximately 1.9762,\n",
    "# which is close to the true value of 2 that was used to generate the data.\n",
    "\n",
    "# Standard error: The standard error of the coefficient estimate is 0.117,\n",
    "# which indicates the precision of the estimate. A smaller standard error\n",
    "# suggests a more precise estimate.\n",
    "\n",
    "# t-statistic: The t-statistic is 16.898, which is very high. This statistic\n",
    "# measures how many standard deviations the coefficient estimate is away from\n",
    "# 0.\n",
    "\n",
    "# p-value: The p-value is 0.000, which is much less than the typical\n",
    "# significance level of 0.05. This means there is strong evidence to reject\n",
    "# the null hypothesis."
   ]
  },
  {
   "cell_type": "code",
   "execution_count": 9,
   "metadata": {},
   "outputs": [
    {
     "data": {
      "text/html": [
       "<div>\n",
       "<style scoped>\n",
       "    .dataframe tbody tr th:only-of-type {\n",
       "        vertical-align: middle;\n",
       "    }\n",
       "\n",
       "    .dataframe tbody tr th {\n",
       "        vertical-align: top;\n",
       "    }\n",
       "\n",
       "    .dataframe thead th {\n",
       "        text-align: right;\n",
       "    }\n",
       "</style>\n",
       "<table border=\"1\" class=\"dataframe\">\n",
       "  <thead>\n",
       "    <tr style=\"text-align: right;\">\n",
       "      <th></th>\n",
       "      <th>coef</th>\n",
       "      <th>std err</th>\n",
       "      <th>t</th>\n",
       "      <th>P&gt;|t|</th>\n",
       "    </tr>\n",
       "  </thead>\n",
       "  <tbody>\n",
       "    <tr>\n",
       "      <th>x1</th>\n",
       "      <td>0.3757</td>\n",
       "      <td>0.022</td>\n",
       "      <td>16.898</td>\n",
       "      <td>0.0</td>\n",
       "    </tr>\n",
       "  </tbody>\n",
       "</table>\n",
       "</div>"
      ],
      "text/plain": [
       "      coef  std err       t  P>|t|\n",
       "x1  0.3757    0.022  16.898    0.0"
      ]
     },
     "execution_count": 9,
     "metadata": {},
     "output_type": "execute_result"
    }
   ],
   "source": [
    "# (b) Now perform a simple linear regression of x onto y without an intercept,\n",
    "#  and report the coefficient estimate, its standard error, and the\n",
    "# corresponding t-statistic and p-values associated with the null hypothesis\n",
    "# H0 : β = 0. Comment on these results.\n",
    "\n",
    "model_2 = sm.OLS(x, y)\n",
    "results_2 = model_2.fit()\n",
    "summarize(results_2)\n",
    "\n",
    "# Coefficient estimate: The estimated coefficient of y is 0.3757. This means\n",
    "# that for each unit increase in y, x increases by 0.3757 units. This is the\n",
    "# inverse relationship of what we obtained prior.\n",
    "\n",
    "# Standard error: The standard error of 0.022 indicates that the estimate is\n",
    "# precise, similar to the previous setup.\n",
    "\n",
    "# t-statistic: The t-statistic is 16.898, indicating the coefficient estimate\n",
    "# is many standard deviations away from 0.\n",
    "\n",
    "# p-value: The p-value is 0.000, which is less than 0.05, suggesting the\n",
    "# coefficient is statistically significant."
   ]
  },
  {
   "cell_type": "code",
   "execution_count": null,
   "metadata": {},
   "outputs": [],
   "source": [
    "# (c) What is the relationship between the results obtained in (a) and (b)?\n",
    "\n",
    "# Given that 𝑦 = 2𝑥 + 𝜖 holds true, theoretically 𝑥 = (1/2)𝑦 + 𝜖′ should also\n",
    "# hold, hence 0.5 ≈ 0.3757 with some discrepancy due to the noise added in\n",
    "# the generation of 𝑦.\n",
    "\n",
    "# The relationship between these two sets of results demonstrates the\n",
    "# inherent symmetry in simple linear regression. Switching the\n",
    "# dependent and independent variables results in reciprocal coefficients,\n",
    "# provided the model fits well and there's no intercept."
   ]
  },
  {
   "cell_type": "code",
   "execution_count": null,
   "metadata": {},
   "outputs": [],
   "source": [
    "# Skipped (d) and (e)"
   ]
  },
  {
   "cell_type": "code",
   "execution_count": 11,
   "metadata": {},
   "outputs": [
    {
     "name": "stdout",
     "output_type": "stream",
     "text": [
      "         coef  std err       t  P>|t|\n",
      "const -0.0760    0.101  -0.756  0.451\n",
      "x1     1.9686    0.118  16.734  0.000\n",
      "         coef  std err       t  P>|t|\n",
      "const  0.0095    0.044   0.216  0.829\n",
      "x1     0.3763    0.022  16.734  0.000\n"
     ]
    }
   ],
   "source": [
    "# (f) In Python, show that when regression is performed with an intercept,\n",
    "# the t-statistic for H0 : β1 = 0 is the same for the regression of y onto x\n",
    "# as it is for the regression of x onto y.\n",
    "\n",
    "# Add a constant (intercept) term to the models\n",
    "X = sm.add_constant(x)\n",
    "Y = sm.add_constant(y)\n",
    "\n",
    "# Perform the regression of y onto x\n",
    "model_3 = sm.OLS(y, X)\n",
    "results_3 = model_3.fit()\n",
    "\n",
    "# Perform the regression of x onto y\n",
    "model_4 = sm.OLS(x, Y)\n",
    "results_4 = model_4.fit()\n",
    "\n",
    "# Print the summary of both models\n",
    "print(summarize(results_3))\n",
    "print(summarize(results_4))\n",
    "\n",
    "# We can observe the t-statistic is the same for β1 across both models.\n"
   ]
  }
 ],
 "metadata": {
  "kernelspec": {
   "display_name": "Python 3",
   "language": "python",
   "name": "python3"
  },
  "language_info": {
   "codemirror_mode": {
    "name": "ipython",
    "version": 3
   },
   "file_extension": ".py",
   "mimetype": "text/x-python",
   "name": "python",
   "nbconvert_exporter": "python",
   "pygments_lexer": "ipython3",
   "version": "3.10.12"
  }
 },
 "nbformat": 4,
 "nbformat_minor": 2
}
