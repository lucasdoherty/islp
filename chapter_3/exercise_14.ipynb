{
 "cells": [
  {
   "cell_type": "code",
   "execution_count": 11,
   "metadata": {},
   "outputs": [],
   "source": [
    "\"\"\"Chapter 3 | Linear Regression applied exercises.\"\"\"\n",
    "import matplotlib.pyplot as plt\n",
    "import numpy as np\n",
    "import statsmodels.formula.api as smf\n",
    "import pandas as pd\n"
   ]
  },
  {
   "cell_type": "code",
   "execution_count": 12,
   "metadata": {},
   "outputs": [],
   "source": [
    "np.random.seed(5)\n",
    "x1 = np.random.uniform(0, 1, size=100)\n",
    "x2 = 0.5 * x1 + np.random.normal(size=100) / 10\n",
    "y = 2 + 2 * x1 + 0.3 * x2 + np.random.normal(size=100)\n",
    "\n",
    "# (a) The last line above corresponds to creating a linear model in which y is\n",
    "# a function of x1 and x2. Write out the form of the linear model. What are\n",
    "# the regression coefficients?\n",
    "\n",
    "# The coefficent for the x1 term is 2 and the coefficent for the x2 term is\n",
    "# 0.3. We can represent the last line of the code block above as the linear\n",
    "# model as Y = β0 + β1x1 + β2x2 + ϵ = 2 + 2x1 + 0.3x2 + ϵ."
   ]
  },
  {
   "cell_type": "code",
   "execution_count": 13,
   "metadata": {},
   "outputs": [
    {
     "data": {
      "text/plain": [
       "array([[1.        , 0.81936924],\n",
       "       [0.81936924, 1.        ]])"
      ]
     },
     "metadata": {},
     "output_type": "display_data"
    },
    {
     "data": {
      "text/plain": [
       "<matplotlib.collections.PathCollection at 0x148a713c0>"
      ]
     },
     "execution_count": 13,
     "metadata": {},
     "output_type": "execute_result"
    },
    {
     "data": {
      "image/png": "[encoded data removed]",
      "text/plain": [
       "<Figure size 640x480 with 1 Axes>"
      ]
     },
     "metadata": {},
     "output_type": "display_data"
    }
   ],
   "source": [
    "# What is the correlation between x1 and x2? Create a scatterplot displaying\n",
    "# the relationship between the variables.\n",
    "display(np.corrcoef(x1, x2))\n",
    "\n",
    "# The correlation between x1 and x2 is 0.772.\n",
    "\n",
    "plt.scatter(x1,x2)"
   ]
  },
  {
   "cell_type": "code",
   "execution_count": 14,
   "metadata": {},
   "outputs": [
    {
     "data": {
      "text/html": [
       "<table class=\"simpletable\">\n",
       "<caption>OLS Regression Results</caption>\n",
       "<tr>\n",
       "  <th>Dep. Variable:</th>            <td>y</td>        <th>  R-squared:         </th> <td>   0.444</td>\n",
       "</tr>\n",
       "<tr>\n",
       "  <th>Model:</th>                   <td>OLS</td>       <th>  Adj. R-squared:    </th> <td>   0.433</td>\n",
       "</tr>\n",
       "<tr>\n",
       "  <th>Method:</th>             <td>Least Squares</td>  <th>  F-statistic:       </th> <td>   38.74</td>\n",
       "</tr>\n",
       "<tr>\n",
       "  <th>Date:</th>             <td>Tue, 11 Jun 2024</td> <th>  Prob (F-statistic):</th> <td>4.31e-13</td>\n",
       "</tr>\n",
       "<tr>\n",
       "  <th>Time:</th>                 <td>20:08:49</td>     <th>  Log-Likelihood:    </th> <td> -123.67</td>\n",
       "</tr>\n",
       "<tr>\n",
       "  <th>No. Observations:</th>      <td>   100</td>      <th>  AIC:               </th> <td>   253.3</td>\n",
       "</tr>\n",
       "<tr>\n",
       "  <th>Df Residuals:</th>          <td>    97</td>      <th>  BIC:               </th> <td>   261.1</td>\n",
       "</tr>\n",
       "<tr>\n",
       "  <th>Df Model:</th>              <td>     2</td>      <th>                     </th>     <td> </td>   \n",
       "</tr>\n",
       "<tr>\n",
       "  <th>Covariance Type:</th>      <td>nonrobust</td>    <th>                     </th>     <td> </td>   \n",
       "</tr>\n",
       "</table>\n",
       "<table class=\"simpletable\">\n",
       "<tr>\n",
       "      <td></td>         <th>coef</th>     <th>std err</th>      <th>t</th>      <th>P>|t|</th>  <th>[0.025</th>    <th>0.975]</th>  \n",
       "</tr>\n",
       "<tr>\n",
       "  <th>Intercept</th> <td>    1.8158</td> <td>    0.162</td> <td>   11.231</td> <td> 0.000</td> <td>    1.495</td> <td>    2.137</td>\n",
       "</tr>\n",
       "<tr>\n",
       "  <th>x1</th>        <td>    2.0758</td> <td>    0.488</td> <td>    4.257</td> <td> 0.000</td> <td>    1.108</td> <td>    3.044</td>\n",
       "</tr>\n",
       "<tr>\n",
       "  <th>x2</th>        <td>    0.7584</td> <td>    0.817</td> <td>    0.929</td> <td> 0.355</td> <td>   -0.862</td> <td>    2.379</td>\n",
       "</tr>\n",
       "</table>\n",
       "<table class=\"simpletable\">\n",
       "<tr>\n",
       "  <th>Omnibus:</th>       <td> 0.718</td> <th>  Durbin-Watson:     </th> <td>   1.960</td>\n",
       "</tr>\n",
       "<tr>\n",
       "  <th>Prob(Omnibus):</th> <td> 0.698</td> <th>  Jarque-Bera (JB):  </th> <td>   0.574</td>\n",
       "</tr>\n",
       "<tr>\n",
       "  <th>Skew:</th>          <td>-0.185</td> <th>  Prob(JB):          </th> <td>   0.750</td>\n",
       "</tr>\n",
       "<tr>\n",
       "  <th>Kurtosis:</th>      <td> 2.981</td> <th>  Cond. No.          </th> <td>    12.5</td>\n",
       "</tr>\n",
       "</table><br/><br/>Notes:<br/>[1] Standard Errors assume that the covariance matrix of the errors is correctly specified."
      ],
      "text/latex": [
       "\\begin{center}\n",
       "\\begin{tabular}{lclc}\n",
       "\\toprule\n",
       "\\textbf{Dep. Variable:}    &        y         & \\textbf{  R-squared:         } &     0.444   \\\\\n",
       "\\textbf{Model:}            &       OLS        & \\textbf{  Adj. R-squared:    } &     0.433   \\\\\n",
       "\\textbf{Method:}           &  Least Squares   & \\textbf{  F-statistic:       } &     38.74   \\\\\n",
       "\\textbf{Date:}             & Tue, 11 Jun 2024 & \\textbf{  Prob (F-statistic):} &  4.31e-13   \\\\\n",
       "\\textbf{Time:}             &     20:08:49     & \\textbf{  Log-Likelihood:    } &   -123.67   \\\\\n",
       "\\textbf{No. Observations:} &         100      & \\textbf{  AIC:               } &     253.3   \\\\\n",
       "\\textbf{Df Residuals:}     &          97      & \\textbf{  BIC:               } &     261.1   \\\\\n",
       "\\textbf{Df Model:}         &           2      & \\textbf{                     } &             \\\\\n",
       "\\textbf{Covariance Type:}  &    nonrobust     & \\textbf{                     } &             \\\\\n",
       "\\bottomrule\n",
       "\\end{tabular}\n",
       "\\begin{tabular}{lcccccc}\n",
       "                   & \\textbf{coef} & \\textbf{std err} & \\textbf{t} & \\textbf{P$> |$t$|$} & \\textbf{[0.025} & \\textbf{0.975]}  \\\\\n",
       "\\midrule\n",
       "\\textbf{Intercept} &       1.8158  &        0.162     &    11.231  &         0.000        &        1.495    &        2.137     \\\\\n",
       "\\textbf{x1}        &       2.0758  &        0.488     &     4.257  &         0.000        &        1.108    &        3.044     \\\\\n",
       "\\textbf{x2}        &       0.7584  &        0.817     &     0.929  &         0.355        &       -0.862    &        2.379     \\\\\n",
       "\\bottomrule\n",
       "\\end{tabular}\n",
       "\\begin{tabular}{lclc}\n",
       "\\textbf{Omnibus:}       &  0.718 & \\textbf{  Durbin-Watson:     } &    1.960  \\\\\n",
       "\\textbf{Prob(Omnibus):} &  0.698 & \\textbf{  Jarque-Bera (JB):  } &    0.574  \\\\\n",
       "\\textbf{Skew:}          & -0.185 & \\textbf{  Prob(JB):          } &    0.750  \\\\\n",
       "\\textbf{Kurtosis:}      &  2.981 & \\textbf{  Cond. No.          } &     12.5  \\\\\n",
       "\\bottomrule\n",
       "\\end{tabular}\n",
       "%\\caption{OLS Regression Results}\n",
       "\\end{center}\n",
       "\n",
       "Notes: \\newline\n",
       " [1] Standard Errors assume that the covariance matrix of the errors is correctly specified."
      ],
      "text/plain": [
       "<class 'statsmodels.iolib.summary.Summary'>\n",
       "\"\"\"\n",
       "                            OLS Regression Results                            \n",
       "==============================================================================\n",
       "Dep. Variable:                      y   R-squared:                       0.444\n",
       "Model:                            OLS   Adj. R-squared:                  0.433\n",
       "Method:                 Least Squares   F-statistic:                     38.74\n",
       "Date:                Tue, 11 Jun 2024   Prob (F-statistic):           4.31e-13\n",
       "Time:                        20:08:49   Log-Likelihood:                -123.67\n",
       "No. Observations:                 100   AIC:                             253.3\n",
       "Df Residuals:                      97   BIC:                             261.1\n",
       "Df Model:                           2                                         \n",
       "Covariance Type:            nonrobust                                         \n",
       "==============================================================================\n",
       "                 coef    std err          t      P>|t|      [0.025      0.975]\n",
       "------------------------------------------------------------------------------\n",
       "Intercept      1.8158      0.162     11.231      0.000       1.495       2.137\n",
       "x1             2.0758      0.488      4.257      0.000       1.108       3.044\n",
       "x2             0.7584      0.817      0.929      0.355      -0.862       2.379\n",
       "==============================================================================\n",
       "Omnibus:                        0.718   Durbin-Watson:                   1.960\n",
       "Prob(Omnibus):                  0.698   Jarque-Bera (JB):                0.574\n",
       "Skew:                          -0.185   Prob(JB):                        0.750\n",
       "Kurtosis:                       2.981   Cond. No.                         12.5\n",
       "==============================================================================\n",
       "\n",
       "Notes:\n",
       "[1] Standard Errors assume that the covariance matrix of the errors is correctly specified.\n",
       "\"\"\""
      ]
     },
     "execution_count": 14,
     "metadata": {},
     "output_type": "execute_result"
    }
   ],
   "source": [
    "# (c) Using this data, fit a least squares regression to predict y using x1\n",
    "# and x2. Describe the results obtained. What are βˆ0, βˆ1, and βˆ2? How do\n",
    "# these relate to the true β0, β1, and β2? Can you reject the null hypothesis\n",
    "# H0 : β1 = 0? How about the null hypothesis H0 : β2 = 0?\n",
    "\n",
    "df = pd.DataFrame({\"x1\": x1, \"x2\": x2, \"y\": y})\n",
    "\n",
    "# Corrected formula to include both x1 and x2\n",
    "results = smf.ols(\"y ~ x1 + x2\", df).fit()\n",
    "\n",
    "# Display the summary of the regression results\n",
    "results.summary()\n",
    "\n",
    "# By examining the summary, we see some differences in the coefficients,\n",
    "# most notably between βˆ2 and β2. We can reject the null hypothesis\n",
    "# H0 : β1 = 0 but cannot reject the null hypothesis H0 : β2 = 0."
   ]
  },
  {
   "cell_type": "code",
   "execution_count": null,
   "metadata": {},
   "outputs": [],
   "source": [
    "# (d) Now fit a least squares regression to predict y using only x1.\n",
    "# Comment on your results. Can you reject the null hypothesis H0 : β1 = 0?\n"
   ]
  }
 ],
 "metadata": {
  "kernelspec": {
   "display_name": "Python 3",
   "language": "python",
   "name": "python3"
  },
  "language_info": {
   "codemirror_mode": {
    "name": "ipython",
    "version": 3
   },
   "file_extension": ".py",
   "mimetype": "text/x-python",
   "name": "python",
   "nbconvert_exporter": "python",
   "pygments_lexer": "ipython3",
   "version": "3.10.12"
  }
 },
 "nbformat": 4,
 "nbformat_minor": 2
}
