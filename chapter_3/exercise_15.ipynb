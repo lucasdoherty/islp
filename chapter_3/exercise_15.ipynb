{
 "cells": [
  {
   "cell_type": "code",
   "execution_count": null,
   "metadata": {},
   "outputs": [],
   "source": [
    "\"\"\"Chapter 3 | Linear Regression applied exercises.\"\"\"\n",
    "import matplotlib.pyplot as plt\n",
    "import numpy as np\n",
    "import statsmodels.formula.api as smf\n",
    "import pandas as pd"
   ]
  },
  {
   "cell_type": "code",
   "execution_count": null,
   "metadata": {},
   "outputs": [],
   "source": [
    "# (a) For each predictor, fit a simple linear regression model to predict\n",
    "# the response. Describe your results. In which of the models is there a\n",
    "# statistically significant association between the predictor and the\n",
    "# response? Create some plots to back up your assertions.\n"
   ]
  }
 ],
 "metadata": {
  "language_info": {
   "name": "python"
  }
 },
 "nbformat": 4,
 "nbformat_minor": 2
}
